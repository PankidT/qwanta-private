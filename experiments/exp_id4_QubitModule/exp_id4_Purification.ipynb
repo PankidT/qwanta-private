{
 "cells": [
  {
   "cell_type": "code",
   "execution_count": 21,
   "metadata": {},
   "outputs": [],
   "source": [
    "from qwanta.Qubit import PhysicalQubit, GetQubit, DirectFidelityEstimator\n",
    "import numpy as np\n",
    "import matplotlib.pyplot as plt\n",
    "import pandas as pd\n",
    "from sympy import symbols, simplify, latex, cse, factor\n",
    "from sympy.plotting import plot \n",
    "\n",
    "import seaborn as sns\n",
    "\n",
    "sns.set_theme(context='notebook')\n",
    "#sns.set_palette(sns.color_palette(\"ch:s=-.2,r=.6\"))\n"
   ]
  },
  {
   "cell_type": "markdown",
   "metadata": {},
   "source": [
    "### Without purificaition"
   ]
  },
  {
   "cell_type": "code",
   "execution_count": 3,
   "metadata": {},
   "outputs": [],
   "source": [
    "Paulis = ['I', 'X', 'Y', 'Z']\n",
    "\n",
    "errors_one = []\n",
    "for pauli_1 in Paulis:\n",
    "    for pauli_2 in Paulis:\n",
    "        errors_one.append(''.join([pauli_1, pauli_2]))"
   ]
  },
  {
   "cell_type": "code",
   "execution_count": 4,
   "metadata": {},
   "outputs": [],
   "source": [
    "results = []\n",
    "p = symbols('p')\n",
    "for error in errors_one:\n",
    "\n",
    "    tmp = {}\n",
    "\n",
    "    Bell00, Bell01 = GetQubit(), GetQubit()\n",
    "    qubitList = [Bell00, Bell01]\n",
    "\n",
    "    # Apply error to qubit\n",
    "    prob = 1\n",
    "    for index, (e, q) in enumerate(zip(error, qubitList)):\n",
    "        if e == 'X':\n",
    "            q.addXerror()\n",
    "        if e == 'Y':\n",
    "            q.addXerror()\n",
    "            q.addZerror()\n",
    "        if e == 'Z':\n",
    "            q.addZerror()\n",
    "        if e == 'I':\n",
    "            prob *= 1- p\n",
    "        else:\n",
    "            prob *= p/3\n",
    "        tmp[f'q{index}'] = e\n",
    "\n",
    "    # Record result\n",
    "    tmp['probability'] = prob\n",
    "\n",
    "    # Check each basis\n",
    "    is_Bell = True\n",
    "    # Z-basis\n",
    "    if Bell00.error_x != Bell01.error_x:\n",
    "        is_Bell = False\n",
    "\n",
    "    # X-basis\n",
    "    if Bell00.error_z != Bell01.error_z:\n",
    "        is_Bell = False\n",
    "\n",
    "    # Y-basis\n",
    "    if (Bell00.error_x != Bell00.error_z) != (Bell01.error_x != Bell01.error_z):\n",
    "        is_Bell = False\n",
    "\n",
    "\n",
    "    tmp['is Bell'] = is_Bell\n",
    "\n",
    "    results.append(tmp)\n",
    "\n",
    "dataframe_without_purification = pd.DataFrame(results)"
   ]
  },
  {
   "cell_type": "code",
   "execution_count": 5,
   "metadata": {},
   "outputs": [],
   "source": [
    "fidelity_without_purification = sum( dataframe_without_purification.loc[dataframe_without_purification['is Bell'] == True]['probability'] )\n",
    "\n",
    "def fidelity_wo_purification(x):\n",
    "    return fidelity_without_purification.subs(p, x)"
   ]
  },
  {
   "cell_type": "code",
   "execution_count": 6,
   "metadata": {},
   "outputs": [
    {
     "data": {
      "text/latex": [
       "$\\displaystyle \\frac{p^{2}}{3} + \\left(1 - p\\right)^{2}$"
      ],
      "text/plain": [
       "p**2/3 + (1 - p)**2"
      ]
     },
     "execution_count": 6,
     "metadata": {},
     "output_type": "execute_result"
    }
   ],
   "source": [
    "fidelity_without_purification"
   ]
  },
  {
   "cell_type": "markdown",
   "metadata": {},
   "source": [
    "### X purification"
   ]
  },
  {
   "cell_type": "code",
   "execution_count": 7,
   "metadata": {},
   "outputs": [],
   "source": [
    "Paulis = ['I', 'X', 'Y', 'Z']\n",
    "\n",
    "errors = []\n",
    "for pauli_1 in Paulis:\n",
    "    for pauli_2 in Paulis:\n",
    "        for pauli_3 in Paulis:\n",
    "            for pauli_4 in Paulis:\n",
    "                errors.append(''.join([pauli_1, pauli_2, pauli_3, pauli_4]))"
   ]
  },
  {
   "cell_type": "code",
   "execution_count": 8,
   "metadata": {},
   "outputs": [],
   "source": [
    "results = []\n",
    "p = symbols('p')\n",
    "for error in errors:\n",
    "\n",
    "    tmp = {}\n",
    "\n",
    "    Bell00, Bell01, Bell10, Bell11 = GetQubit(), GetQubit(), GetQubit(), GetQubit()\n",
    "    qubitList = [Bell00, Bell01, Bell10, Bell11]\n",
    "    \n",
    "    # Apply error to qubit\n",
    "    prob = 1\n",
    "    for index, (e, q) in enumerate(zip(error, qubitList)):\n",
    "        if e == 'X':\n",
    "            q.addXerror()\n",
    "        if e == 'Y':\n",
    "            q.addXerror()\n",
    "            q.addZerror()\n",
    "        if e == 'Z':\n",
    "            q.addZerror()\n",
    "        if e == 'I':\n",
    "            prob *= 1- p\n",
    "        else:\n",
    "            prob *= p/3\n",
    "        tmp[f'q{index}'] = e\n",
    "\n",
    "    # X purification\n",
    "    Bell10.CNOT_gate(Bell00)\n",
    "    Bell11.CNOT_gate(Bell01)\n",
    "\n",
    "    res1 = Bell10.measureZ()\n",
    "    res2 = Bell11.measureZ()\n",
    "\n",
    "    # Record result\n",
    "    tmp['probability'] = prob\n",
    "    tmp['purification result'] = 'Success' if res1 == res2 else 'Fail'\n",
    "\n",
    "    # Check each basis\n",
    "    is_Bell = True\n",
    "    # Z-basis\n",
    "    if Bell00.error_x != Bell01.error_x:\n",
    "        is_Bell = False\n",
    "\n",
    "    # X-basis\n",
    "    if Bell00.error_z != Bell01.error_z:\n",
    "        is_Bell = False\n",
    "\n",
    "    # Y-basis\n",
    "    if (Bell00.error_x != Bell00.error_z) != (Bell01.error_x != Bell01.error_z):\n",
    "        is_Bell = False\n",
    "\n",
    "\n",
    "    tmp['is Bell'] = is_Bell\n",
    "\n",
    "    results.append(tmp)\n",
    "\n",
    "dataframe = pd.DataFrame(results)"
   ]
  },
  {
   "cell_type": "code",
   "execution_count": 9,
   "metadata": {},
   "outputs": [],
   "source": [
    "normalizer = dataframe.loc[dataframe['purification result'] == 'Success']\n",
    "Bell_demo = dataframe.loc[(dataframe['purification result'] == 'Success') & (dataframe['is Bell'] == True)]\n",
    "purified_fidelity = sum(Bell_demo['probability']) / sum(normalizer['probability'])\n",
    "\n",
    "def fidelity_X_purification(x):\n",
    "    return purified_fidelity.subs(p, x)"
   ]
  },
  {
   "cell_type": "code",
   "execution_count": 45,
   "metadata": {},
   "outputs": [
    {
     "data": {
      "text/latex": [
       "$\\displaystyle \\frac{\\frac{13 p^{4}}{81} + \\frac{8 p^{3} \\cdot \\left(1 - p\\right)}{27} + \\frac{10 p^{2} \\left(1 - p\\right)^{2}}{9} + \\left(1 - p\\right)^{4}}{\\frac{41 p^{4}}{81} + \\frac{52 p^{3} \\cdot \\left(1 - p\\right)}{27} + \\frac{10 p^{2} \\left(1 - p\\right)^{2}}{3} + \\frac{4 p \\left(1 - p\\right)^{3}}{3} + \\left(1 - p\\right)^{4}}$"
      ],
      "text/plain": [
       "(13*p**4/81 + 8*p**3*(1 - p)/27 + 10*p**2*(1 - p)**2/9 + (1 - p)**4)/(41*p**4/81 + 52*p**3*(1 - p)/27 + 10*p**2*(1 - p)**2/3 + 4*p*(1 - p)**3/3 + (1 - p)**4)"
      ]
     },
     "execution_count": 45,
     "metadata": {},
     "output_type": "execute_result"
    }
   ],
   "source": [
    "purified_fidelity"
   ]
  },
  {
   "cell_type": "markdown",
   "metadata": {},
   "source": [
    "### Ss-Dp"
   ]
  },
  {
   "cell_type": "code",
   "execution_count": 34,
   "metadata": {},
   "outputs": [],
   "source": [
    "Paulis = ['I', 'X', 'Y', 'Z']\n",
    "\n",
    "errors_Ss_Dp = []\n",
    "for pauli_1 in Paulis:\n",
    "    for pauli_2 in Paulis:\n",
    "        for pauli_3 in Paulis:\n",
    "            for pauli_4 in Paulis:\n",
    "                for pauli_5 in Paulis:\n",
    "                    for pauil_6 in Paulis:\n",
    "                        errors_Ss_Dp.append(''.join([pauli_1, pauli_2, pauli_3, pauli_4, pauli_5, pauil_6]))"
   ]
  },
  {
   "cell_type": "code",
   "execution_count": 40,
   "metadata": {},
   "outputs": [],
   "source": [
    "results = []\n",
    "p = symbols('p')\n",
    "p_gate = symbols('p_gate')\n",
    "p_measure = symbols('p_measure')\n",
    "for error in errors_Ss_Dp:\n",
    "\n",
    "    tmp = {}\n",
    "\n",
    "    Bell00, Bell01, Bell10, Bell11, Bell20, Bell21 = GetQubit(), GetQubit(), GetQubit(), GetQubit() , GetQubit(), GetQubit()\n",
    "    qubitList = [Bell00, Bell01, Bell10, Bell11, Bell20, Bell21]\n",
    "    \n",
    "    # Apply error to qubit\n",
    "    prob = 1\n",
    "    for index, (e, q) in enumerate(zip(error, qubitList)):\n",
    "        if e == 'X':\n",
    "            q.addXerror()\n",
    "        if e == 'Y':\n",
    "            q.addXerror()\n",
    "            q.addZerror()\n",
    "        if e == 'Z':\n",
    "            q.addZerror()\n",
    "        if e == 'I':\n",
    "            prob *= 1- p\n",
    "        else:\n",
    "            prob *= p/3\n",
    "        tmp[f'q{index}'] = e\n",
    "\n",
    "    \n",
    "\n",
    "    # Ss-Dp purification\n",
    "    Bell10.CNOT_gate(Bell00)\n",
    "\n",
    "\n",
    "    Bell11.CNOT_gate(Bell01)\n",
    "\n",
    "    Bell00.CNOT_gate(Bell20)\n",
    "    Bell01.CNOT_gate(Bell21)\n",
    "\n",
    "    resX1 = Bell10.measureZ()\n",
    "    resX2 = Bell11.measureZ()\n",
    "\n",
    "    resZ1 = Bell20.measureX()\n",
    "    resZ2 = Bell21.measureX()\n",
    "\n",
    "    # Record result\n",
    "    tmp['probability'] = prob\n",
    "    tmp['purification result'] = 'Success' if (resX1 == resX2) and (resZ1 == resZ2) else 'Fail'\n",
    "\n",
    "    # Check each basis\n",
    "    is_Bell = True\n",
    "    # Z-basis\n",
    "    if Bell00.error_x != Bell01.error_x:\n",
    "        is_Bell = False\n",
    "\n",
    "    # X-basis\n",
    "    if Bell00.error_z != Bell01.error_z:\n",
    "        is_Bell = False\n",
    "\n",
    "    # Y-basis\n",
    "    if (Bell00.error_x != Bell00.error_z) != (Bell01.error_x != Bell01.error_z):\n",
    "        is_Bell = False\n",
    "\n",
    "    tmp['is Bell'] = is_Bell\n",
    "\n",
    "    results.append(tmp)\n",
    "\n",
    "dataframe_Ss_Dp = pd.DataFrame(results)"
   ]
  },
  {
   "cell_type": "code",
   "execution_count": 41,
   "metadata": {},
   "outputs": [
    {
     "data": {
      "text/html": [
       "<div>\n",
       "<style scoped>\n",
       "    .dataframe tbody tr th:only-of-type {\n",
       "        vertical-align: middle;\n",
       "    }\n",
       "\n",
       "    .dataframe tbody tr th {\n",
       "        vertical-align: top;\n",
       "    }\n",
       "\n",
       "    .dataframe thead th {\n",
       "        text-align: right;\n",
       "    }\n",
       "</style>\n",
       "<table border=\"1\" class=\"dataframe\">\n",
       "  <thead>\n",
       "    <tr style=\"text-align: right;\">\n",
       "      <th></th>\n",
       "      <th>q0</th>\n",
       "      <th>q1</th>\n",
       "      <th>q2</th>\n",
       "      <th>q3</th>\n",
       "      <th>q4</th>\n",
       "      <th>q5</th>\n",
       "      <th>probability</th>\n",
       "      <th>purification result</th>\n",
       "      <th>is Bell</th>\n",
       "    </tr>\n",
       "  </thead>\n",
       "  <tbody>\n",
       "    <tr>\n",
       "      <th>0</th>\n",
       "      <td>I</td>\n",
       "      <td>I</td>\n",
       "      <td>I</td>\n",
       "      <td>I</td>\n",
       "      <td>I</td>\n",
       "      <td>I</td>\n",
       "      <td>(1 - p)**6</td>\n",
       "      <td>Success</td>\n",
       "      <td>True</td>\n",
       "    </tr>\n",
       "    <tr>\n",
       "      <th>1</th>\n",
       "      <td>I</td>\n",
       "      <td>I</td>\n",
       "      <td>I</td>\n",
       "      <td>I</td>\n",
       "      <td>I</td>\n",
       "      <td>X</td>\n",
       "      <td>p*(1 - p)**5/3</td>\n",
       "      <td>Success</td>\n",
       "      <td>False</td>\n",
       "    </tr>\n",
       "    <tr>\n",
       "      <th>2</th>\n",
       "      <td>I</td>\n",
       "      <td>I</td>\n",
       "      <td>I</td>\n",
       "      <td>I</td>\n",
       "      <td>I</td>\n",
       "      <td>Y</td>\n",
       "      <td>p*(1 - p)**5/3</td>\n",
       "      <td>Fail</td>\n",
       "      <td>False</td>\n",
       "    </tr>\n",
       "    <tr>\n",
       "      <th>3</th>\n",
       "      <td>I</td>\n",
       "      <td>I</td>\n",
       "      <td>I</td>\n",
       "      <td>I</td>\n",
       "      <td>I</td>\n",
       "      <td>Z</td>\n",
       "      <td>p*(1 - p)**5/3</td>\n",
       "      <td>Fail</td>\n",
       "      <td>True</td>\n",
       "    </tr>\n",
       "    <tr>\n",
       "      <th>4</th>\n",
       "      <td>I</td>\n",
       "      <td>I</td>\n",
       "      <td>I</td>\n",
       "      <td>I</td>\n",
       "      <td>X</td>\n",
       "      <td>I</td>\n",
       "      <td>p*(1 - p)**5/3</td>\n",
       "      <td>Success</td>\n",
       "      <td>False</td>\n",
       "    </tr>\n",
       "    <tr>\n",
       "      <th>...</th>\n",
       "      <td>...</td>\n",
       "      <td>...</td>\n",
       "      <td>...</td>\n",
       "      <td>...</td>\n",
       "      <td>...</td>\n",
       "      <td>...</td>\n",
       "      <td>...</td>\n",
       "      <td>...</td>\n",
       "      <td>...</td>\n",
       "    </tr>\n",
       "    <tr>\n",
       "      <th>4091</th>\n",
       "      <td>Z</td>\n",
       "      <td>Z</td>\n",
       "      <td>Z</td>\n",
       "      <td>Z</td>\n",
       "      <td>Y</td>\n",
       "      <td>Z</td>\n",
       "      <td>p**6/729</td>\n",
       "      <td>Success</td>\n",
       "      <td>False</td>\n",
       "    </tr>\n",
       "    <tr>\n",
       "      <th>4092</th>\n",
       "      <td>Z</td>\n",
       "      <td>Z</td>\n",
       "      <td>Z</td>\n",
       "      <td>Z</td>\n",
       "      <td>Z</td>\n",
       "      <td>I</td>\n",
       "      <td>p**5*(1 - p)/243</td>\n",
       "      <td>Fail</td>\n",
       "      <td>True</td>\n",
       "    </tr>\n",
       "    <tr>\n",
       "      <th>4093</th>\n",
       "      <td>Z</td>\n",
       "      <td>Z</td>\n",
       "      <td>Z</td>\n",
       "      <td>Z</td>\n",
       "      <td>Z</td>\n",
       "      <td>X</td>\n",
       "      <td>p**6/729</td>\n",
       "      <td>Fail</td>\n",
       "      <td>False</td>\n",
       "    </tr>\n",
       "    <tr>\n",
       "      <th>4094</th>\n",
       "      <td>Z</td>\n",
       "      <td>Z</td>\n",
       "      <td>Z</td>\n",
       "      <td>Z</td>\n",
       "      <td>Z</td>\n",
       "      <td>Y</td>\n",
       "      <td>p**6/729</td>\n",
       "      <td>Success</td>\n",
       "      <td>False</td>\n",
       "    </tr>\n",
       "    <tr>\n",
       "      <th>4095</th>\n",
       "      <td>Z</td>\n",
       "      <td>Z</td>\n",
       "      <td>Z</td>\n",
       "      <td>Z</td>\n",
       "      <td>Z</td>\n",
       "      <td>Z</td>\n",
       "      <td>p**6/729</td>\n",
       "      <td>Success</td>\n",
       "      <td>True</td>\n",
       "    </tr>\n",
       "  </tbody>\n",
       "</table>\n",
       "<p>4096 rows × 9 columns</p>\n",
       "</div>"
      ],
      "text/plain": [
       "     q0 q1 q2 q3 q4 q5       probability purification result  is Bell\n",
       "0     I  I  I  I  I  I        (1 - p)**6             Success     True\n",
       "1     I  I  I  I  I  X    p*(1 - p)**5/3             Success    False\n",
       "2     I  I  I  I  I  Y    p*(1 - p)**5/3                Fail    False\n",
       "3     I  I  I  I  I  Z    p*(1 - p)**5/3                Fail     True\n",
       "4     I  I  I  I  X  I    p*(1 - p)**5/3             Success    False\n",
       "...  .. .. .. .. .. ..               ...                 ...      ...\n",
       "4091  Z  Z  Z  Z  Y  Z          p**6/729             Success    False\n",
       "4092  Z  Z  Z  Z  Z  I  p**5*(1 - p)/243                Fail     True\n",
       "4093  Z  Z  Z  Z  Z  X          p**6/729                Fail    False\n",
       "4094  Z  Z  Z  Z  Z  Y          p**6/729             Success    False\n",
       "4095  Z  Z  Z  Z  Z  Z          p**6/729             Success     True\n",
       "\n",
       "[4096 rows x 9 columns]"
      ]
     },
     "execution_count": 41,
     "metadata": {},
     "output_type": "execute_result"
    }
   ],
   "source": [
    "dataframe_Ss_Dp"
   ]
  },
  {
   "cell_type": "code",
   "execution_count": 43,
   "metadata": {},
   "outputs": [],
   "source": [
    "normalizer = dataframe_Ss_Dp.loc[dataframe_Ss_Dp['purification result'] == 'Success']\n",
    "Bell_demo = dataframe_Ss_Dp.loc[(dataframe_Ss_Dp['purification result'] == 'Success') & (dataframe_Ss_Dp['is Bell'] == True)]\n",
    "Ss_Dp_fidelity = sum(Bell_demo['probability']) / sum(normalizer['probability'])\n",
    "\n",
    "def fidelity_Ss_Dp(x):\n",
    "    return Ss_Dp_fidelity.subs(p, x)"
   ]
  },
  {
   "cell_type": "code",
   "execution_count": 46,
   "metadata": {},
   "outputs": [
    {
     "data": {
      "text/latex": [
       "$\\displaystyle \\frac{\\frac{55 p^{6}}{729} + \\frac{8 p^{5} \\cdot \\left(1 - p\\right)}{27} + \\frac{91 p^{4} \\left(1 - p\\right)^{2}}{81} + \\frac{8 p^{3} \\left(1 - p\\right)^{3}}{9} + \\frac{13 p^{2} \\left(1 - p\\right)^{4}}{9} + \\left(1 - p\\right)^{6}}{\\frac{185 p^{6}}{729} + \\frac{118 p^{5} \\cdot \\left(1 - p\\right)}{81} + \\frac{319 p^{4} \\left(1 - p\\right)^{2}}{81} + \\frac{124 p^{3} \\left(1 - p\\right)^{3}}{27} + \\frac{13 p^{2} \\left(1 - p\\right)^{4}}{3} + \\frac{2 p \\left(1 - p\\right)^{5}}{3} + \\left(1 - p\\right)^{6}}$"
      ],
      "text/plain": [
       "(55*p**6/729 + 8*p**5*(1 - p)/27 + 91*p**4*(1 - p)**2/81 + 8*p**3*(1 - p)**3/9 + 13*p**2*(1 - p)**4/9 + (1 - p)**6)/(185*p**6/729 + 118*p**5*(1 - p)/81 + 319*p**4*(1 - p)**2/81 + 124*p**3*(1 - p)**3/27 + 13*p**2*(1 - p)**4/3 + 2*p*(1 - p)**5/3 + (1 - p)**6)"
      ]
     },
     "execution_count": 46,
     "metadata": {},
     "output_type": "execute_result"
    }
   ],
   "source": [
    "Ss_Dp_fidelity"
   ]
  },
  {
   "cell_type": "code",
   "execution_count": 13,
   "metadata": {},
   "outputs": [
    {
     "data": {
      "text/plain": [
       "<matplotlib.legend.Legend at 0x137003f1940>"
      ]
     },
     "execution_count": 13,
     "metadata": {},
     "output_type": "execute_result"
    },
    {
     "data": {
      "image/png": "[encoded data removed]",
      "text/plain": [
       "<Figure size 360x504 with 1 Axes>"
      ]
     },
     "metadata": {},
     "output_type": "display_data"
    }
   ],
   "source": [
    "plt.figure(figsize=(5, 7))\n",
    "\n",
    "xrange = np.linspace(0, 1)\n",
    "plt.plot(xrange, [fidelity_wo_purification(x) for x in xrange] , label='Without purification')\n",
    "plt.plot(xrange, [fidelity_X_purification(x) for x in xrange] , label='X-purification')\n",
    "plt.plot(xrange, [fidelity_Ss_Dp(x) for x in xrange] , label='Ss-Dp')\n",
    "\n",
    "plt.title('Analytic fidelity')\n",
    "plt.xlabel('depolarizing error $p$')\n",
    "plt.ylabel('fidelity')\n",
    "plt.legend()"
   ]
  },
  {
   "cell_type": "code",
   "execution_count": 14,
   "metadata": {},
   "outputs": [
    {
     "data": {
      "text/latex": [
       "$\\displaystyle \\frac{224 p^{4} - 672 p^{3} + 756 p^{2} - 378 p + 81}{256 p^{4} - 768 p^{3} + 792 p^{2} - 324 p + 81}$"
      ],
      "text/plain": [
       "(224*p**4 - 672*p**3 + 756*p**2 - 378*p + 81)/(256*p**4 - 768*p**3 + 792*p**2 - 324*p + 81)"
      ]
     },
     "execution_count": 14,
     "metadata": {},
     "output_type": "execute_result"
    }
   ],
   "source": [
    "simplify(Ss_Dp_fidelity)"
   ]
  },
  {
   "cell_type": "code",
   "execution_count": 47,
   "metadata": {},
   "outputs": [
    {
     "data": {
      "text/latex": [
       "$\\displaystyle 0.25$"
      ],
      "text/plain": [
       "0.250000000000000"
      ]
     },
     "execution_count": 47,
     "metadata": {},
     "output_type": "execute_result"
    }
   ],
   "source": [
    "Ss_Dp_fidelity.subs(p, 0.75)"
   ]
  },
  {
   "cell_type": "code",
   "execution_count": 39,
   "metadata": {},
   "outputs": [
    {
     "data": {
      "text/latex": [
       "$\\displaystyle \\frac{448 p^{5} - 1824 p^{4} + 3096 p^{3} - 2700 p^{2} + 1215 p - 243}{512 p^{5} - 2112 p^{4} + 3456 p^{3} - 2808 p^{2} + 1134 p - 243}$"
      ],
      "text/plain": [
       "(448*p**5 - 1824*p**4 + 3096*p**3 - 2700*p**2 + 1215*p - 243)/(512*p**5 - 2112*p**4 + 3456*p**3 - 2808*p**2 + 1134*p - 243)"
      ]
     },
     "execution_count": 39,
     "metadata": {},
     "output_type": "execute_result"
    }
   ],
   "source": [
    "simplify(Ss_Dp_fidelity)"
   ]
  },
  {
   "cell_type": "code",
   "execution_count": 15,
   "metadata": {},
   "outputs": [
    {
     "data": {
      "text/latex": [
       "$\\displaystyle \\frac{160 p^{4} - 480 p^{3} + 576 p^{2} - 324 p + 81}{128 p^{4} - 384 p^{3} + 432 p^{2} - 216 p + 81}$"
      ],
      "text/plain": [
       "(160*p**4 - 480*p**3 + 576*p**2 - 324*p + 81)/(128*p**4 - 384*p**3 + 432*p**2 - 216*p + 81)"
      ]
     },
     "execution_count": 15,
     "metadata": {},
     "output_type": "execute_result"
    }
   ],
   "source": [
    "simplify(X_purified_fidelity)"
   ]
  },
  {
   "cell_type": "code",
   "execution_count": 16,
   "metadata": {},
   "outputs": [
    {
     "data": {
      "text/latex": [
       "$\\displaystyle \\frac{p^{2}}{3} + \\left(p - 1\\right)^{2}$"
      ],
      "text/plain": [
       "p**2/3 + (p - 1)**2"
      ]
     },
     "execution_count": 16,
     "metadata": {},
     "output_type": "execute_result"
    }
   ],
   "source": [
    "simplify(fidelity_without_purification) "
   ]
  },
  {
   "cell_type": "code",
   "execution_count": null,
   "metadata": {},
   "outputs": [],
   "source": []
  }
 ],
 "metadata": {
  "interpreter": {
   "hash": "c8c8179e32452599d4a26953df57b15899be29c8d6f158a87fa85fee27af1950"
  },
  "kernelspec": {
   "display_name": "Python 3.9.7 ('qwanta-env')",
   "language": "python",
   "name": "python3"
  },
  "language_info": {
   "codemirror_mode": {
    "name": "ipython",
    "version": 3
   },
   "file_extension": ".py",
   "mimetype": "text/x-python",
   "name": "python",
   "nbconvert_exporter": "python",
   "pygments_lexer": "ipython3",
   "version": "3.9.7"
  },
  "orig_nbformat": 4
 },
 "nbformat": 4,
 "nbformat_minor": 2
}
