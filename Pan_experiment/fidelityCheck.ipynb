{
 "cells": [
  {
   "cell_type": "code",
   "execution_count": 2,
   "metadata": {},
   "outputs": [],
   "source": [
    "import numpy as np\n",
    "import dill\n",
    "import matplotlib.pyplot as plt\n",
    "from math import radians, cos, sin, asin, sqrt\n",
    "import seaborn as sns"
   ]
  },
  {
   "cell_type": "code",
   "execution_count": 4,
   "metadata": {},
   "outputs": [],
   "source": [
    "sns.set_theme()"
   ]
  },
  {
   "cell_type": "code",
   "execution_count": 5,
   "metadata": {},
   "outputs": [],
   "source": [
    "def openPickle(folder):\n",
    "    with open(folder+'/Result_None_Sheet1.pkl', 'rb') as f:\n",
    "        file1 = dill.load(f)\n",
    "    # with open(folder+'/Result_epps_expEPPS_p0_r1.pkl', 'rb') as f:\n",
    "    #     file2 = dill.load(f)\n",
    "    # with open(folder+'/Result_epps_expEPPS_p0_r2.pkl', 'rb') as f:\n",
    "    #     file3 = dill.load(f)\n",
    "    # with open(folder+'/Result_epps_expEPPS_p0_r3.pkl', 'rb') as f:\n",
    "    #     file4 = dill.load(f)\n",
    "    # with open(folder+'/Result_epps_expEPPS_p0_r4.pkl', 'rb') as f:\n",
    "    #     file5 = dill.load(f)\n",
    "    all_file = [file1]\n",
    "    return all_file\n",
    "\n",
    "def plot_all(dataset, init, final, title, plot=True):\n",
    "    if plot == True:\n",
    "        x = np.linspace(init, final, len(dataset[0]['Fidelity History'][init:]))\n",
    "        plt.plot(x, dataset[0]['Fidelity History'][init:final+1], '-r')\n",
    "        plt.plot(x, dataset[1]['Fidelity History'][init:final+1], '-g')\n",
    "        plt.plot(x, dataset[2]['Fidelity History'][init:final+1], '-b')\n",
    "        plt.plot(x, dataset[3]['Fidelity History'][init:final+1], '-c')\n",
    "        plt.plot(x, dataset[4]['Fidelity History'][init:final+1], '-m')\n",
    "        plt.xlabel('Direct fidelity estimation')\n",
    "        plt.ylabel('Fidelity')\n",
    "        plt.title(title)\n",
    "        plt.show()\n",
    "\n",
    "    avg_ssdp = []\n",
    "    avg_ssdp.append(dataset[0]['Fidelity History'][init:final+1])\n",
    "    avg_ssdp.append(dataset[1]['Fidelity History'][init:final+1])\n",
    "    avg_ssdp.append(dataset[2]['Fidelity History'][init:final+1])\n",
    "    avg_ssdp.append(dataset[3]['Fidelity History'][init:final+1])\n",
    "    avg_ssdp.append(dataset[4]['Fidelity History'][init:final+1])\n",
    "    avg_ssdp = np.array(avg_ssdp)\n",
    "\n",
    "    mean_ssdp = avg_ssdp.mean(axis=0)\n",
    "    std_ssdp = avg_ssdp.std(axis=0)\n",
    "    print(\"9000 DFE\", round(mean_ssdp[-1], 3))\n",
    "\n",
    "    if plot == True:\n",
    "        plt.xlabel('Direct fidelity estimation')\n",
    "        plt.ylabel('Fidelity')\n",
    "        plt.title(title)\n",
    "\n",
    "        plt.plot(np.linspace(init, final+1, final+1-init), mean_ssdp, '-', color='cornflowerblue')\n",
    "        plt.fill_between(np.linspace(init, final+1, final+1-init), mean_ssdp-std_ssdp, mean_ssdp+std_ssdp, alpha=0.3, color='cornflowerblue')\n",
    "        plt.show()\n",
    "\n",
    "    return round(mean_ssdp[-1], 3)"
   ]
  },
  {
   "cell_type": "code",
   "execution_count": null,
   "metadata": {},
   "outputs": [],
   "source": [
    "plot_all(openPickle('MSC_test'), 1000, 9000, 'BKK_CM, loss=0.009 tau=0.25', plot=True)"
   ]
  }
 ],
 "metadata": {
  "kernelspec": {
   "display_name": "Python 3.9.13 ('qwan_env')",
   "language": "python",
   "name": "python3"
  },
  "language_info": {
   "codemirror_mode": {
    "name": "ipython",
    "version": 3
   },
   "file_extension": ".py",
   "mimetype": "text/x-python",
   "name": "python",
   "nbconvert_exporter": "python",
   "pygments_lexer": "ipython3",
   "version": "3.9.13"
  },
  "orig_nbformat": 4,
  "vscode": {
   "interpreter": {
    "hash": "23af58564012988c5edef472e177fe262c63aa71bce94182d00c377459e1cb7c"
   }
  }
 },
 "nbformat": 4,
 "nbformat_minor": 2
}
